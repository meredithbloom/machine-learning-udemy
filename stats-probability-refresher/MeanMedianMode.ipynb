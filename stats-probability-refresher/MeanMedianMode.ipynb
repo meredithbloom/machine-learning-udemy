{
 "cells": [
  {
   "cell_type": "markdown",
   "metadata": {},
   "source": [
    "# Mean, Median, Mode, and introducing NumPy"
   ]
  },
  {
   "cell_type": "markdown",
   "metadata": {},
   "source": [
    "## Mean vs. Median"
   ]
  },
  {
   "cell_type": "markdown",
   "metadata": {},
   "source": [
    "Let's create some fake income data, centered around 27,000 with a normal distribution and standard deviation of 15,000, with 10,000 data points. (We'll discuss those terms more later, if you're not familiar with them.)\n",
    "\n",
    "Then, compute the mean (average) - it should be close to 27,000:"
   ]
  },
  {
   "cell_type": "code",
   "execution_count": 1,
   "metadata": {},
   "outputs": [
    {
     "data": {
      "text/plain": [
       "26801.91804912182"
      ]
     },
     "execution_count": 1,
     "metadata": {},
     "output_type": "execute_result"
    }
   ],
   "source": [
    "import numpy as np\n",
    "\n",
    "incomes = np.random.normal(27000, 15000, 10000)\n",
    "np.mean(incomes)"
   ]
  },
  {
   "cell_type": "markdown",
   "metadata": {},
   "source": [
    "We can segment the income data into 50 buckets, and plot it as a histogram:"
   ]
  },
  {
   "cell_type": "code",
   "execution_count": 3,
   "metadata": {},
   "outputs": [
    {
     "data": {
      "image/png": "[encoded data removed]",
      "text/plain": [
       "<Figure size 432x288 with 1 Axes>"
      ]
     },
     "metadata": {
      "needs_background": "light"
     },
     "output_type": "display_data"
    }
   ],
   "source": [
    "%matplotlib inline\n",
    "import matplotlib.pyplot as plt\n",
    "plt.hist(incomes, 50)\n",
    "plt.show()"
   ]
  },
  {
   "cell_type": "markdown",
   "metadata": {},
   "source": [
    "Now compute the median - since we have a nice, even distribution it too should be close to 27,000:"
   ]
  },
  {
   "cell_type": "code",
   "execution_count": 4,
   "metadata": {},
   "outputs": [
    {
     "data": {
      "text/plain": [
       "27009.009900484714"
      ]
     },
     "execution_count": 4,
     "metadata": {},
     "output_type": "execute_result"
    }
   ],
   "source": [
    "np.median(incomes)"
   ]
  },
  {
   "cell_type": "markdown",
   "metadata": {},
   "source": [
    "Now we'll add Jeff Bezos into the mix. Darn income inequality!"
   ]
  },
  {
   "cell_type": "code",
   "execution_count": 5,
   "metadata": {},
   "outputs": [],
   "source": [
    "incomes = np.append(incomes, [1000000000])"
   ]
  },
  {
   "cell_type": "markdown",
   "metadata": {},
   "source": [
    "The median won't change much, but the mean does:"
   ]
  },
  {
   "cell_type": "code",
   "execution_count": 9,
   "metadata": {},
   "outputs": [
    {
     "data": {
      "text/plain": [
       "27011.807206502646"
      ]
     },
     "execution_count": 9,
     "metadata": {},
     "output_type": "execute_result"
    }
   ],
   "source": [
    "np.median(incomes)"
   ]
  },
  {
   "cell_type": "code",
   "execution_count": 8,
   "metadata": {},
   "outputs": [
    {
     "data": {
      "text/plain": [
       "126789.2391252093"
      ]
     },
     "execution_count": 8,
     "metadata": {},
     "output_type": "execute_result"
    }
   ],
   "source": [
    "np.mean(incomes)"
   ]
  },
  {
   "cell_type": "markdown",
   "metadata": {},
   "source": [
    "## Mode"
   ]
  },
  {
   "cell_type": "markdown",
   "metadata": {},
   "source": [
    "Next, let's generate some fake age data for 500 people:"
   ]
  },
  {
   "cell_type": "code",
   "execution_count": 16,
   "metadata": {},
   "outputs": [
    {
     "data": {
      "text/plain": [
       "array([65, 51, 47, 42, 21, 26, 21, 74, 75, 62, 66, 49, 84, 60, 29, 22, 32,\n",
       "       24, 63, 20, 27, 31, 71, 52, 79, 55, 74, 31, 47, 80, 83, 39, 18, 80,\n",
       "       34, 54, 83, 71, 85, 61, 68, 59, 37, 33, 84, 41, 52, 26, 31, 77, 26,\n",
       "       56, 20, 89, 62, 18, 83, 25, 21, 49, 57, 83, 26, 23, 60, 87, 76, 81,\n",
       "       67, 74, 72, 58, 63, 57, 41, 19, 34, 36, 71, 48, 89, 56, 46, 41, 75,\n",
       "       24, 67, 33, 60, 18, 18, 75, 75, 46, 80, 32, 56, 64, 45, 18, 37, 82,\n",
       "       72, 42, 71, 65, 63, 69, 77, 36, 64, 85, 50, 74, 72, 50, 48, 62, 65,\n",
       "       55, 43, 47, 88, 31, 34, 54, 61, 60, 63, 39, 49, 41, 23, 68, 66, 19,\n",
       "       60, 83, 77, 59, 86, 58, 45, 77, 46, 49, 74, 84, 60, 59, 27, 45, 39,\n",
       "       84, 77, 54, 57, 28, 48, 35, 38, 84, 62, 86, 70, 64, 36, 31, 21, 36,\n",
       "       53, 21, 73, 67, 67, 77, 21, 26, 22, 64, 78, 79, 46, 66, 75, 30, 64,\n",
       "       28, 65, 26, 35, 88, 54, 32, 28, 71, 35, 47, 29, 51, 44, 50, 78, 57,\n",
       "       59, 79, 27, 30, 81, 27, 28, 33, 65, 33, 30, 78, 35, 46, 22, 56, 34,\n",
       "       56, 79, 82, 61, 42, 82, 54, 22, 27, 36, 79, 21, 36, 79, 35, 20, 56,\n",
       "       22, 32, 38, 47, 49, 48, 72, 33, 46, 83, 74, 32, 29, 56, 33, 41, 79,\n",
       "       35, 70, 52, 65, 87, 52, 23, 31, 67, 35, 30, 74, 76, 73, 80, 22, 33,\n",
       "       86, 62, 78, 28, 87, 70, 50, 70, 23, 65, 47, 68, 28, 63, 52, 32, 77,\n",
       "       87, 50, 22, 77, 37, 26, 48, 43, 51, 19, 73, 20, 75, 44, 71, 24, 63,\n",
       "       50, 58, 30, 27, 68, 36, 25, 55, 60, 47, 26, 33, 58, 26, 77, 38, 18,\n",
       "       72, 71, 45, 83, 58, 66, 82, 75, 86, 31, 71, 78, 28, 22, 40, 28, 50,\n",
       "       56, 68, 34, 25, 41, 26, 84, 76, 24, 35, 73, 82, 69, 77, 56, 71, 62,\n",
       "       20, 48, 44, 49, 52, 36, 53, 70, 56, 74, 56, 84, 21, 69, 26, 19, 21,\n",
       "       77, 58, 57, 73, 88, 55, 66, 34, 54, 53, 55, 44, 29, 18, 30, 59, 23,\n",
       "       38, 81, 51, 58, 22, 48, 51, 27, 32, 48, 52, 20, 30, 75, 35, 34, 59,\n",
       "       44, 75, 78, 41, 24, 84, 66, 72, 36, 54, 64, 43, 18, 29, 27, 70, 65,\n",
       "       52, 22, 47, 56, 33, 20, 52, 51, 36, 64, 19, 20, 33, 33, 64, 30, 71,\n",
       "       53, 39, 58, 42, 77, 58, 52, 55, 73, 82, 19, 57, 22, 73, 40, 32, 61,\n",
       "       67, 40, 45, 56, 36, 24, 67, 52, 59, 46, 74, 66, 34, 65, 23, 79, 43,\n",
       "       68, 63, 42, 38, 46, 40, 84, 18, 41, 75, 38, 41, 36, 64, 30, 85, 34,\n",
       "       27, 75, 72, 33, 43, 68, 61])"
      ]
     },
     "execution_count": 16,
     "metadata": {},
     "output_type": "execute_result"
    }
   ],
   "source": [
    "ages = np.random.randint(18, high=90, size=500)\n",
    "ages"
   ]
  },
  {
   "cell_type": "code",
   "execution_count": 17,
   "metadata": {},
   "outputs": [
    {
     "data": {
      "text/plain": [
       "ModeResult(mode=array([56]), count=array([13]))"
      ]
     },
     "execution_count": 17,
     "metadata": {},
     "output_type": "execute_result"
    }
   ],
   "source": [
    "from scipy import stats\n",
    "stats.mode(ages)"
   ]
  },
  {
   "cell_type": "code",
   "execution_count": null,
   "metadata": {},
   "outputs": [],
   "source": []
  }
 ],
 "metadata": {
  "kernelspec": {
   "display_name": "Python 3 (ipykernel)",
   "language": "python",
   "name": "python3"
  },
  "language_info": {
   "codemirror_mode": {
    "name": "ipython",
    "version": 3
   },
   "file_extension": ".py",
   "mimetype": "text/x-python",
   "name": "python",
   "nbconvert_exporter": "python",
   "pygments_lexer": "ipython3",
   "version": "3.9.12"
  }
 },
 "nbformat": 4,
 "nbformat_minor": 1
}
